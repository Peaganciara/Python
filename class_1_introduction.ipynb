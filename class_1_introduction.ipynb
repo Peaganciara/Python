{
 "cells": [
  {
   "cell_type": "markdown",
   "id": "cd2fc770-7d11-448f-b04c-8f3ec80795d0",
   "metadata": {},
   "source": [
    "## Jupyterlab"
   ]
  },
  {
   "cell_type": "markdown",
   "id": "6ef9ba46-929b-4a30-8810-f8d6e5d03c4e",
   "metadata": {},
   "source": [
    "JupyterLab is the latest web-based interactive development environment for notebooks, code, and data. Its flexible interface allows users to configure and arrange workflows in data science, scientific computing, computational journalism, and machine learning."
   ]
  },
  {
   "cell_type": "markdown",
   "id": "5cfdcc4f-78cc-4f19-b928-c54d8733666f",
   "metadata": {},
   "source": [
    "More details: [https://jupyter.org/](https://jupyter.org/)"
   ]
  },
  {
   "cell_type": "markdown",
   "id": "9d7054d8-5299-4008-a5a0-d09abad8ad1b",
   "metadata": {},
   "source": [
    "## Jupyterlab Interface"
   ]
  },
  {
   "cell_type": "markdown",
   "id": "aac9fc04-c1ea-43a3-9afe-4607669d7083",
   "metadata": {},
   "source": [
    "![alt text](./images/jupyterlab_interface.png)"
   ]
  },
  {
   "cell_type": "markdown",
   "id": "f8bd406c-35fb-485d-ab08-43d31463524d",
   "metadata": {},
   "source": [
    "## Jupyterlab shortcut commands"
   ]
  },
  {
   "cell_type": "markdown",
   "id": "540c9cca-deeb-459c-a85a-fb5a73ac8df0",
   "metadata": {},
   "source": [
    "1. Windows = control\n",
    "2. Mac = commad\n"
   ]
  },
  {
   "cell_type": "markdown",
   "id": "17ec77da-8694-4a12-aa46-f30ae6f676ad",
   "metadata": {},
   "source": [
    "![alt text](./images/shortcuts.png)"
   ]
  },
  {
   "cell_type": "code",
   "execution_count": null,
   "id": "404887ef-a48c-4837-a893-99d39b0af6a4",
   "metadata": {},
   "outputs": [],
   "source": []
  },
  {
   "cell_type": "code",
   "execution_count": null,
   "id": "643f2756-6661-486e-a60f-2e09adede56d",
   "metadata": {},
   "outputs": [],
   "source": []
  },
  {
   "cell_type": "markdown",
   "id": "c190b12e-fba5-4763-a571-a0de81040dc3",
   "metadata": {},
   "source": [
    "# Learning Mardown"
   ]
  },
  {
   "cell_type": "markdown",
   "id": "0c7de5b8-d2dc-49cc-8a35-a051e2e28758",
   "metadata": {},
   "source": [
    "**What is Markdown?**"
   ]
  },
  {
   "cell_type": "markdown",
   "id": "ee3088d1-7def-4420-abd2-e1bdb4b9c177",
   "metadata": {},
   "source": [
    "Markdown is a lightweight markup language that you can use to add formatting elements to plaintext text documents. Created by John Gruber in 2004, Markdown is now one of the world’s most popular markup languages."
   ]
  },
  {
   "cell_type": "markdown",
   "id": "eb19b771-bb25-4a17-b2ea-f3897d1eb027",
   "metadata": {},
   "source": [
    "More details: [https://www.markdownguide.org/](https://www.markdownguide.org/)"
   ]
  },
  {
   "cell_type": "markdown",
   "id": "088fa1a0-d3ef-46bc-9bf5-b2a97474d14c",
   "metadata": {},
   "source": [
    "![alt text](./images/basic_syntax.png)"
   ]
  },
  {
   "cell_type": "markdown",
   "id": "d5433a32-5ba0-4e6d-9998-f08cc95e7fa7",
   "metadata": {},
   "source": [
    "# Basic Python"
   ]
  },
  {
   "cell_type": "markdown",
   "id": "cfaeab21-ee07-44a6-86bf-307caedbd3cd",
   "metadata": {},
   "source": [
    "https://scipy-lectures.org/intro/language/basic_types.html#numerical-types"
   ]
  },
  {
   "cell_type": "markdown",
   "id": "f0acc03e-2d3f-4d6f-82b3-46f91d58c68b",
   "metadata": {},
   "source": [
    "### Numerical types"
   ]
  },
  {
   "cell_type": "markdown",
   "id": "e8c3e13f-407a-4ad6-94ff-16091c6c2903",
   "metadata": {},
   "source": [
    "A Python shell can therefore replace your pocket calculator, with the basic arithmetic operations:\n",
    "1. \"+\" = Sum,\n",
    "2. \"-\" = Subtract,\n",
    "3. \"*\" = Multiplication, \n",
    "4. \"/\" = Division, \n",
    "5. \"%\" = Modulo natively implemented "
   ]
  },
  {
   "cell_type": "code",
   "execution_count": 8,
   "id": "c0ba00df-9297-4889-9f62-f0b308e3d3fd",
   "metadata": {},
   "outputs": [
    {
     "data": {
      "text/plain": [
       "21.0"
      ]
     },
     "execution_count": 8,
     "metadata": {},
     "output_type": "execute_result"
    }
   ],
   "source": [
    "7 * 3."
   ]
  },
  {
   "cell_type": "code",
   "execution_count": 9,
   "id": "7e52bc42-0ce8-4d45-b6df-86fcd7869dde",
   "metadata": {},
   "outputs": [
    {
     "data": {
      "text/plain": [
       "1024"
      ]
     },
     "execution_count": 9,
     "metadata": {},
     "output_type": "execute_result"
    }
   ],
   "source": [
    "2**10"
   ]
  },
  {
   "cell_type": "code",
   "execution_count": 10,
   "id": "4df97b15-96ce-44e5-84ad-f2615a198e22",
   "metadata": {},
   "outputs": [
    {
     "data": {
      "text/plain": [
       "2"
      ]
     },
     "execution_count": 10,
     "metadata": {},
     "output_type": "execute_result"
    }
   ],
   "source": [
    "8 % 3"
   ]
  },
  {
   "cell_type": "markdown",
   "id": "2c11a9c9-5472-4e95-9840-ef37bfe6aa93",
   "metadata": {},
   "source": [
    "#### Type conversion (casting):"
   ]
  },
  {
   "cell_type": "code",
   "execution_count": 11,
   "id": "910cc7f4-540c-403a-91ef-d67c155cf659",
   "metadata": {},
   "outputs": [
    {
     "data": {
      "text/plain": [
       "1.0"
      ]
     },
     "execution_count": 11,
     "metadata": {},
     "output_type": "execute_result"
    }
   ],
   "source": [
    "float(1)"
   ]
  },
  {
   "cell_type": "markdown",
   "id": "6c4653cf-0555-4b26-b249-1c81655a2c32",
   "metadata": {},
   "source": [
    "#### Integer division"
   ]
  },
  {
   "cell_type": "code",
   "execution_count": 13,
   "id": "81ee0cd3-6bad-44d5-8f20-94f94cf1d582",
   "metadata": {},
   "outputs": [
    {
     "data": {
      "text/plain": [
       "1.5"
      ]
     },
     "execution_count": 13,
     "metadata": {},
     "output_type": "execute_result"
    }
   ],
   "source": [
    "3 / 2 "
   ]
  },
  {
   "cell_type": "markdown",
   "id": "dec077e8-7719-4977-9fc2-58b7b2f57ef8",
   "metadata": {},
   "source": [
    "### Containers\n",
    "1. List\n",
    "2. Strings\n",
    "3. Dictionary\n",
    "4. Tuple"
   ]
  },
  {
   "cell_type": "code",
   "execution_count": 14,
   "id": "108a4a1d-5935-42d5-a459-5d601c971747",
   "metadata": {},
   "outputs": [],
   "source": [
    "import pandas as pd"
   ]
  },
  {
   "cell_type": "code",
   "execution_count": null,
   "id": "c80448bf-1c86-409b-9a7a-c512c386eb4a",
   "metadata": {},
   "outputs": [],
   "source": [
    "pd.read_csv()"
   ]
  }
 ],
 "metadata": {
  "kernelspec": {
   "display_name": "Python 3 (ipykernel)",
   "language": "python",
   "name": "python3"
  },
  "language_info": {
   "codemirror_mode": {
    "name": "ipython",
    "version": 3
   },
   "file_extension": ".py",
   "mimetype": "text/x-python",
   "name": "python",
   "nbconvert_exporter": "python",
   "pygments_lexer": "ipython3",
   "version": "3.9.7"
  }
 },
 "nbformat": 4,
 "nbformat_minor": 5
}
